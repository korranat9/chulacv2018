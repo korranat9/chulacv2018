{
 "cells": [
  {
   "cell_type": "markdown",
   "metadata": {},
   "source": [
    "# 2110443 - Computer Vision (2018/1)\n",
    "## Lab 2 - Basic Image Processing\n",
    "In this lab, we will play with basic image pixel manipulation in grayscale images. This notebook includes both coding and written questions. Please hand in this notebook file with all outputs and your answer"
   ]
  },
  {
   "cell_type": "markdown",
   "metadata": {},
   "source": [
    "Import OpenCV, Numpy and Matplotlib as always"
   ]
  },
  {
   "cell_type": "code",
   "execution_count": null,
   "metadata": {},
   "outputs": [],
   "source": [
    "import cv2\n",
    "import numpy as np\n",
    "from matplotlib import pyplot as plt\n",
    "from ipywidgets import interact\n",
    "import ipywidgets as widgets\n",
    "import urllib.request\n",
    "import json\n",
    "%matplotlib inline"
   ]
  },
  {
   "cell_type": "markdown",
   "metadata": {},
   "source": [
    "Use <a href=\"https://docs.opencv.org/3.4.1/d4/da8/group__imgcodecs.html#ga288b8b3da0892bd651fce07b3bbd3a56\">imread</a>  function to read image from file in <b>grayscale</b> format and display its dimension"
   ]
  },
  {
   "cell_type": "code",
   "execution_count": null,
   "metadata": {},
   "outputs": [],
   "source": [
    "inputImage = cv2.imread(\"assets/lena_std.tif\",cv2.IMREAD_GRAYSCALE)\n",
    "print('inputImage variable data type =>', type(inputImage))\n",
    "print('inputImage variable numpy data type =>', inputImage.dtype)\n",
    "print('inputImage dimensions', inputImage.shape)\n",
    "print(inputImage)"
   ]
  },
  {
   "cell_type": "markdown",
   "metadata": {},
   "source": [
    "We need to specify matplotlib imshow <a href=\"https://matplotlib.org/tutorials/colors/colormaps.html\">colormap</a> (cmap) as gray to display grayscale images."
   ]
  },
  {
   "cell_type": "code",
   "execution_count": null,
   "metadata": {},
   "outputs": [],
   "source": [
    "plt.imshow(inputImage, cmap='gray')\n",
    "plt.show()"
   ]
  },
  {
   "cell_type": "markdown",
   "metadata": {},
   "source": [
    "## Pixel Manipulation\n",
    "You can use your old numpy knowledge here!"
   ]
  },
  {
   "cell_type": "code",
   "execution_count": null,
   "metadata": {},
   "outputs": [],
   "source": [
    "%%time\n",
    "# Bad practice, you should not do this\n",
    "inputImageTest = inputImage.copy()\n",
    "for row in range(0,100):\n",
    "    for col in range(0,inputImageTest.shape[1]):\n",
    "        inputImageTest[row,col] = 255"
   ]
  },
  {
   "cell_type": "code",
   "execution_count": null,
   "metadata": {},
   "outputs": [],
   "source": [
    "plt.figure(figsize=(5,5))\n",
    "plt.imshow(inputImageTest, cmap='gray')\n",
    "plt.show()"
   ]
  },
  {
   "cell_type": "code",
   "execution_count": null,
   "metadata": {},
   "outputs": [],
   "source": [
    "%%time\n",
    "# Vectorization version is a lot faster\n",
    "inputImageTest = inputImage.copy()\n",
    "inputImageTest[0:100,:] = 255"
   ]
  },
  {
   "cell_type": "markdown",
   "metadata": {},
   "source": [
    "## Assignment 1 - Pixel Manipulation\n",
    "Use the provided mask to crop the famous \"Lena Soderberg\" face. \n",
    "Hint: - Only <b>Basic</b> numpy knowledge is required here! "
   ]
  },
  {
   "cell_type": "code",
   "execution_count": null,
   "metadata": {},
   "outputs": [],
   "source": [
    "circleMask = np.zeros_like(inputImage)\n",
    "cv2.circle(circleMask,(300,300), 100, (255),-1)\n",
    "plt.figure(figsize=(10,10))\n",
    "plt.subplot(1,2,1)\n",
    "plt.imshow(inputImage, cmap='gray')\n",
    "plt.subplot(1,2,2)\n",
    "plt.imshow(circleMask, cmap='gray')\n",
    "plt.show()"
   ]
  },
  {
   "cell_type": "code",
   "execution_count": null,
   "metadata": {},
   "outputs": [],
   "source": [
    "### FILL HERE ###\n",
    "\n",
    "#################"
   ]
  },
  {
   "cell_type": "markdown",
   "metadata": {},
   "source": [
    "## Basic Image Filtering\n",
    "OpenCV already provided us with a wide range of filtering operation. The most common one is image blurring which is useful for removing noises. It actually removes high frequency content (eg: noise, edges) from the image."
   ]
  },
  {
   "cell_type": "markdown",
   "metadata": {},
   "source": [
    "### 1. Averaging using <a href=\"https://docs.opencv.org/3.4.2/d4/d86/group__imgproc__filter.html#ga8c45db9afe636703801b0b2e440fce37\">cv2.blur</a> function.\n",
    "Simply takes the average of all the pixels in the kernel area"
   ]
  },
  {
   "cell_type": "code",
   "execution_count": null,
   "metadata": {},
   "outputs": [],
   "source": [
    "def cv2Blur(kernelSize):\n",
    "    blurImage = cv2.blur(inputImage,(kernelSize,kernelSize))\n",
    "    plt.figure(figsize=(5,5))\n",
    "    plt.imshow(blurImage, cmap='gray')\n",
    "    plt.show()\n",
    "interact(cv2Blur, kernelSize=widgets.IntSlider(min=1,max=35,step=2,value=1));"
   ]
  },
  {
   "cell_type": "markdown",
   "metadata": {},
   "source": [
    "### 2. Median Blur using <a href=\"https://docs.opencv.org/3.4.2/d4/d86/group__imgproc__filter.html#ga564869aa33e58769b4469101aac458f9\">cv2.medianBlur</a>\n",
    "Read the document and try to \"mimic\" the above interactive visualization!"
   ]
  },
  {
   "cell_type": "code",
   "execution_count": null,
   "metadata": {},
   "outputs": [],
   "source": [
    "### FILL HERE ###\n",
    "\n",
    "\n",
    "#################"
   ]
  },
  {
   "cell_type": "markdown",
   "metadata": {},
   "source": [
    "### 3. Gaussian Blur using <a href=\"https://docs.opencv.org/3.4.2/d4/d86/group__imgproc__filter.html#gaabe8c836e97159a9193fb0b11ac52cf1\">cv2.GaussianBlur</a>\n",
    "Gaussian blurring is highly effective in removing gaussian noise from the image."
   ]
  },
  {
   "cell_type": "code",
   "execution_count": null,
   "metadata": {},
   "outputs": [],
   "source": [
    "def cv2GaussianBlur(kernelSize,sigmaX):\n",
    "    gaussianBlurImage = cv2.GaussianBlur(inputImage,(kernelSize,kernelSize),sigmaX)\n",
    "    print(cv2.getGaussianKernel(kernelSize,sigmaX))\n",
    "    plt.figure(figsize=(5,5))\n",
    "    plt.imshow(gaussianBlurImage, cmap='gray')\n",
    "    plt.show()\n",
    "interact(cv2GaussianBlur, kernelSize=widgets.IntSlider(min=1,max=35,step=2,value=1),sigmaX=widgets.IntSlider(min=1,max=35,step=2,value=1));"
   ]
  },
  {
   "cell_type": "markdown",
   "metadata": {},
   "source": [
    "### 4. Bilateral Filter ==> <a href=\"https://docs.opencv.org/3.4.2/d4/d86/group__imgproc__filter.html#ga9d7064d478c95d60003cf839430737ed\">cv2.bilateralFilter</a>\n",
    "Read the document and try to \"mimic\" the above interactive visualization! "
   ]
  },
  {
   "cell_type": "code",
   "execution_count": null,
   "metadata": {},
   "outputs": [],
   "source": [
    "### FILL HERE ###\n",
    "\n",
    "\n",
    "#################"
   ]
  },
  {
   "cell_type": "markdown",
   "metadata": {},
   "source": [
    "### 5. Custom Kernel Filtering ==> <a href=\"https://docs.opencv.org/3.4.2/d4/d86/group__imgproc__filter.html#ga27c049795ce870216ddfb366086b5a04\">cv2.filter2D</a>"
   ]
  },
  {
   "cell_type": "code",
   "execution_count": null,
   "metadata": {},
   "outputs": [],
   "source": [
    "xKernel = np.array([[-1,-2,-1],[0,0,0],[1,2,1]]) # Mysterious Kernel?\n",
    "yKernel = np.array([[-1,0,1],[-2,0,2],[-1,0,1]])\n",
    "filter2DOutput1 = cv2.filter2D(inputImage,-1,xKernel)\n",
    "filter2DOutput2 = cv2.filter2D(inputImage,-1,yKernel)\n",
    "plt.figure(figsize=(15,15))\n",
    "plt.subplot(1,2,1)\n",
    "plt.imshow(filter2DOutput1, cmap='gray')\n",
    "plt.subplot(1,2,2)\n",
    "plt.imshow(filter2DOutput2, cmap='gray')\n",
    "plt.show()\n",
    "\n",
    "'''\n",
    "What are these mysterious kernels do in your opinion?\n",
    "\n",
    "'''"
   ]
  },
  {
   "cell_type": "markdown",
   "metadata": {},
   "source": [
    "## Assignment 2 - Which filter is the best?\n",
    "The provided api are generated the random artificial noise into image. Your task is to implement the best way <b>(in your opinion)</b> to remove/eliminate those noise. Don't forget to state your reason in the following block. Answer can be in Thai or English."
   ]
  },
  {
   "cell_type": "code",
   "execution_count": null,
   "metadata": {},
   "outputs": [],
   "source": [
    "out1 = np.array(json.loads(urllib.request.urlopen('https://cgci.cp.eng.chula.ac.th/cv2018/lab2/noise1').read().decode('utf-8')),dtype=np.uint8)\n",
    "plt.figure(figsize=(5,5))\n",
    "plt.imshow(out1, cmap='gray')\n",
    "plt.show()\n",
    "print(out1.dtype)"
   ]
  },
  {
   "cell_type": "code",
   "execution_count": null,
   "metadata": {},
   "outputs": [],
   "source": [
    "### FILL HERE ###\n",
    "\n",
    "\n",
    "#################\n",
    "'''\n",
    "State your reason in this block!\n",
    "\n",
    "'''"
   ]
  },
  {
   "cell_type": "code",
   "execution_count": null,
   "metadata": {},
   "outputs": [],
   "source": [
    "out2 = np.array(json.loads(urllib.request.urlopen('https://cgci.cp.eng.chula.ac.th/cv2018/lab2/noise2').read().decode('utf-8')),dtype=np.uint8)\n",
    "plt.figure(figsize=(5,5))\n",
    "plt.imshow(out2, cmap='gray')\n",
    "plt.show()"
   ]
  },
  {
   "cell_type": "code",
   "execution_count": null,
   "metadata": {},
   "outputs": [],
   "source": [
    "### FILL HERE ###\n",
    "\n",
    "\n",
    "#################\n",
    "'''\n",
    "State your reason in this block!\n",
    "\n",
    "'''"
   ]
  },
  {
   "cell_type": "markdown",
   "metadata": {},
   "source": [
    "## Assignment 3 - Implementing your own filter2D function\n",
    "![title](assets/Lab2-filter2D.png)\n",
    "\n",
    "In this part, you will implement the image filter function by yourself. This function should have the function signature as shown below.\n",
    "```python\n",
    "def myFilter2D(inputImage, kernel, paddingMethod=\"constant\", paddingValue=0):\n",
    "    if paddingMethod == \"constant\":\n",
    "        Myterious operations A\n",
    "    elif paddingMethod == \"replicate\":\n",
    "        Myterious operations B\n",
    "    elif paddingMethod == \"valid\":\n",
    "        Myterious operations C\n",
    "    else\n",
    "        print(\"Undefined padding method\")\n",
    "    return outputImage\n",
    "```\n",
    "You must implement 3 padding method\n",
    "1. Constant (\"constant\")\n",
    "2. Replicate border value (\"replicate\")\n",
    "3. No Padding (\"valid\")\n",
    "\n",
    "<b>Hint</b>: Numpy has a padding function! Use Google!!!"
   ]
  },
  {
   "cell_type": "code",
   "execution_count": null,
   "metadata": {},
   "outputs": [],
   "source": [
    "### FILL HERE ###\n"
   ]
  }
 ],
 "metadata": {
  "kernelspec": {
   "display_name": "Python 3",
   "language": "python",
   "name": "python3"
  },
  "language_info": {
   "codemirror_mode": {
    "name": "ipython",
    "version": 3
   },
   "file_extension": ".py",
   "mimetype": "text/x-python",
   "name": "python",
   "nbconvert_exporter": "python",
   "pygments_lexer": "ipython3",
   "version": "3.7.0"
  }
 },
 "nbformat": 4,
 "nbformat_minor": 2
}
